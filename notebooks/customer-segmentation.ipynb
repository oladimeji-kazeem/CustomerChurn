{
 "cells": [
  {
   "cell_type": "code",
   "execution_count": 13,
   "metadata": {
    "vscode": {
     "languageId": "plaintext"
    }
   },
   "outputs": [],
   "source": [
    "import pandas as pd\n",
    "import numpy as np\n",
    "from sklearn.preprocessing import StandardScaler, LabelEncoder\n",
    "from sklearn.cluster import KMeans\n",
    "import pickle\n",
    "import os"
   ]
  },
  {
   "cell_type": "code",
   "execution_count": 14,
   "metadata": {},
   "outputs": [],
   "source": [
    "df = pd.read_csv('C:/Users/oladi/OneDrive - Zeemy/Data Science/CustomerChurn/data/customer_churn_indiv.csv')"
   ]
  },
  {
   "cell_type": "code",
   "execution_count": 15,
   "metadata": {},
   "outputs": [
    {
     "data": {
      "text/html": [
       "<div>\n",
       "<style scoped>\n",
       "    .dataframe tbody tr th:only-of-type {\n",
       "        vertical-align: middle;\n",
       "    }\n",
       "\n",
       "    .dataframe tbody tr th {\n",
       "        vertical-align: top;\n",
       "    }\n",
       "\n",
       "    .dataframe thead th {\n",
       "        text-align: right;\n",
       "    }\n",
       "</style>\n",
       "<table border=\"1\" class=\"dataframe\">\n",
       "  <thead>\n",
       "    <tr style=\"text-align: right;\">\n",
       "      <th></th>\n",
       "      <th>CustomerID</th>\n",
       "      <th>Age</th>\n",
       "      <th>Gender</th>\n",
       "      <th>Location</th>\n",
       "      <th>MaritalStatus</th>\n",
       "      <th>PolicyType</th>\n",
       "      <th>PolicyStartDate</th>\n",
       "      <th>PolicyEndDate</th>\n",
       "      <th>Premium</th>\n",
       "      <th>RenewalStatus</th>\n",
       "      <th>NumClaims</th>\n",
       "      <th>ClaimAmount</th>\n",
       "      <th>ClaimSatisfaction</th>\n",
       "      <th>PaymentHistory</th>\n",
       "      <th>PaymentMethod</th>\n",
       "      <th>ChurnStatus</th>\n",
       "      <th>Region</th>\n",
       "      <th>State</th>\n",
       "      <th>Product</th>\n",
       "    </tr>\n",
       "  </thead>\n",
       "  <tbody>\n",
       "    <tr>\n",
       "      <th>0</th>\n",
       "      <td>CS0000001</td>\n",
       "      <td>56</td>\n",
       "      <td>Male</td>\n",
       "      <td>Ibadan</td>\n",
       "      <td>Widowed</td>\n",
       "      <td>Travel</td>\n",
       "      <td>02/06/2022</td>\n",
       "      <td>06/11/2024</td>\n",
       "      <td>254693.32</td>\n",
       "      <td>Yes</td>\n",
       "      <td>0</td>\n",
       "      <td>467144.94</td>\n",
       "      <td>5</td>\n",
       "      <td>On-time</td>\n",
       "      <td>Mobile Payment</td>\n",
       "      <td>No</td>\n",
       "      <td>SouthWest</td>\n",
       "      <td>Oyo</td>\n",
       "      <td>Motor 3rd Party</td>\n",
       "    </tr>\n",
       "    <tr>\n",
       "      <th>1</th>\n",
       "      <td>CS0000002</td>\n",
       "      <td>69</td>\n",
       "      <td>Male</td>\n",
       "      <td>Ibadan</td>\n",
       "      <td>Married</td>\n",
       "      <td>Life</td>\n",
       "      <td>12/08/2015</td>\n",
       "      <td>21/10/2024</td>\n",
       "      <td>370221.15</td>\n",
       "      <td>No</td>\n",
       "      <td>4</td>\n",
       "      <td>567354.99</td>\n",
       "      <td>4</td>\n",
       "      <td>On-time</td>\n",
       "      <td>Mobile Payment</td>\n",
       "      <td>No</td>\n",
       "      <td>SouthWest</td>\n",
       "      <td>Ogun</td>\n",
       "      <td>Comprehensive Motor</td>\n",
       "    </tr>\n",
       "    <tr>\n",
       "      <th>2</th>\n",
       "      <td>CS0000003</td>\n",
       "      <td>46</td>\n",
       "      <td>Male</td>\n",
       "      <td>Abuja</td>\n",
       "      <td>Married</td>\n",
       "      <td>Auto</td>\n",
       "      <td>18/02/2021</td>\n",
       "      <td>26/05/2024</td>\n",
       "      <td>371363.35</td>\n",
       "      <td>Yes</td>\n",
       "      <td>2</td>\n",
       "      <td>648099.72</td>\n",
       "      <td>5</td>\n",
       "      <td>On-time</td>\n",
       "      <td>Mobile Payment</td>\n",
       "      <td>No</td>\n",
       "      <td>SouthEast</td>\n",
       "      <td>Imo</td>\n",
       "      <td>Motor 3rd Party</td>\n",
       "    </tr>\n",
       "    <tr>\n",
       "      <th>3</th>\n",
       "      <td>CS0000004</td>\n",
       "      <td>32</td>\n",
       "      <td>Female</td>\n",
       "      <td>Kano</td>\n",
       "      <td>Single</td>\n",
       "      <td>Life</td>\n",
       "      <td>07/12/2017</td>\n",
       "      <td>28/09/2023</td>\n",
       "      <td>355976.81</td>\n",
       "      <td>No</td>\n",
       "      <td>0</td>\n",
       "      <td>686599.68</td>\n",
       "      <td>3</td>\n",
       "      <td>On-time</td>\n",
       "      <td>Card Payment</td>\n",
       "      <td>Yes</td>\n",
       "      <td>NorthWest</td>\n",
       "      <td>Sokoto</td>\n",
       "      <td>All Risk Insurance</td>\n",
       "    </tr>\n",
       "    <tr>\n",
       "      <th>4</th>\n",
       "      <td>CS0000005</td>\n",
       "      <td>60</td>\n",
       "      <td>Male</td>\n",
       "      <td>Kano</td>\n",
       "      <td>Widowed</td>\n",
       "      <td>Life</td>\n",
       "      <td>05/04/2022</td>\n",
       "      <td>21/04/2024</td>\n",
       "      <td>278263.25</td>\n",
       "      <td>No</td>\n",
       "      <td>1</td>\n",
       "      <td>271294.65</td>\n",
       "      <td>2</td>\n",
       "      <td>On-time</td>\n",
       "      <td>Card Payment</td>\n",
       "      <td>No</td>\n",
       "      <td>NorthEast</td>\n",
       "      <td>Taraba</td>\n",
       "      <td>Motor 3rd Party</td>\n",
       "    </tr>\n",
       "  </tbody>\n",
       "</table>\n",
       "</div>"
      ],
      "text/plain": [
       "  CustomerID  Age  Gender Location MaritalStatus PolicyType PolicyStartDate  \\\n",
       "0  CS0000001   56    Male   Ibadan       Widowed     Travel      02/06/2022   \n",
       "1  CS0000002   69    Male   Ibadan       Married       Life      12/08/2015   \n",
       "2  CS0000003   46    Male    Abuja       Married       Auto      18/02/2021   \n",
       "3  CS0000004   32  Female     Kano        Single       Life      07/12/2017   \n",
       "4  CS0000005   60    Male     Kano       Widowed       Life      05/04/2022   \n",
       "\n",
       "  PolicyEndDate    Premium RenewalStatus  NumClaims  ClaimAmount  \\\n",
       "0    06/11/2024  254693.32           Yes          0    467144.94   \n",
       "1    21/10/2024  370221.15            No          4    567354.99   \n",
       "2    26/05/2024  371363.35           Yes          2    648099.72   \n",
       "3    28/09/2023  355976.81            No          0    686599.68   \n",
       "4    21/04/2024  278263.25            No          1    271294.65   \n",
       "\n",
       "   ClaimSatisfaction PaymentHistory   PaymentMethod ChurnStatus     Region  \\\n",
       "0                  5        On-time  Mobile Payment          No  SouthWest   \n",
       "1                  4        On-time  Mobile Payment          No  SouthWest   \n",
       "2                  5        On-time  Mobile Payment          No  SouthEast   \n",
       "3                  3        On-time    Card Payment         Yes  NorthWest   \n",
       "4                  2        On-time    Card Payment          No  NorthEast   \n",
       "\n",
       "    State              Product  \n",
       "0     Oyo      Motor 3rd Party  \n",
       "1    Ogun  Comprehensive Motor  \n",
       "2     Imo      Motor 3rd Party  \n",
       "3  Sokoto   All Risk Insurance  \n",
       "4  Taraba      Motor 3rd Party  "
      ]
     },
     "execution_count": 15,
     "metadata": {},
     "output_type": "execute_result"
    }
   ],
   "source": [
    "df.head()"
   ]
  },
  {
   "cell_type": "code",
   "execution_count": 17,
   "metadata": {},
   "outputs": [],
   "source": [
    "# Data Preprocessing\n",
    "df_cleaned = df.drop(columns=[\"CustomerID\", \"PolicyStartDate\", \"PolicyEndDate\", \"Region\", \"State\", \"Product\", \"Location\"])"
   ]
  },
  {
   "cell_type": "code",
   "execution_count": 18,
   "metadata": {},
   "outputs": [],
   "source": [
    "# Encode categorical variables\n",
    "categorical_cols = ['Gender', 'MaritalStatus', 'PolicyType', 'RenewalStatus', 'PaymentHistory', 'PaymentMethod', 'ChurnStatus']\n",
    "label_encoders = {}\n",
    "for col in categorical_cols:\n",
    "    le = LabelEncoder()\n",
    "    df_cleaned[col] = le.fit_transform(df_cleaned[col])\n",
    "    label_encoders[col] = le"
   ]
  },
  {
   "cell_type": "code",
   "execution_count": 19,
   "metadata": {},
   "outputs": [],
   "source": [
    "# Scaling numerical features\n",
    "scaler = StandardScaler()\n",
    "numerical_cols = ['Age', 'Premium', 'NumClaims', 'ClaimAmount', 'ClaimSatisfaction']\n",
    "df_cleaned[numerical_cols] = scaler.fit_transform(df_cleaned[numerical_cols])"
   ]
  },
  {
   "cell_type": "code",
   "execution_count": 20,
   "metadata": {},
   "outputs": [
    {
     "name": "stderr",
     "output_type": "stream",
     "text": [
      "C:\\Users\\oladi\\anaconda3\\Lib\\site-packages\\sklearn\\cluster\\_kmeans.py:870: FutureWarning: The default value of `n_init` will change from 10 to 'auto' in 1.4. Set the value of `n_init` explicitly to suppress the warning\n",
      "  warnings.warn(\n"
     ]
    },
    {
     "data": {
      "text/html": [
       "<style>#sk-container-id-1 {color: black;background-color: white;}#sk-container-id-1 pre{padding: 0;}#sk-container-id-1 div.sk-toggleable {background-color: white;}#sk-container-id-1 label.sk-toggleable__label {cursor: pointer;display: block;width: 100%;margin-bottom: 0;padding: 0.3em;box-sizing: border-box;text-align: center;}#sk-container-id-1 label.sk-toggleable__label-arrow:before {content: \"▸\";float: left;margin-right: 0.25em;color: #696969;}#sk-container-id-1 label.sk-toggleable__label-arrow:hover:before {color: black;}#sk-container-id-1 div.sk-estimator:hover label.sk-toggleable__label-arrow:before {color: black;}#sk-container-id-1 div.sk-toggleable__content {max-height: 0;max-width: 0;overflow: hidden;text-align: left;background-color: #f0f8ff;}#sk-container-id-1 div.sk-toggleable__content pre {margin: 0.2em;color: black;border-radius: 0.25em;background-color: #f0f8ff;}#sk-container-id-1 input.sk-toggleable__control:checked~div.sk-toggleable__content {max-height: 200px;max-width: 100%;overflow: auto;}#sk-container-id-1 input.sk-toggleable__control:checked~label.sk-toggleable__label-arrow:before {content: \"▾\";}#sk-container-id-1 div.sk-estimator input.sk-toggleable__control:checked~label.sk-toggleable__label {background-color: #d4ebff;}#sk-container-id-1 div.sk-label input.sk-toggleable__control:checked~label.sk-toggleable__label {background-color: #d4ebff;}#sk-container-id-1 input.sk-hidden--visually {border: 0;clip: rect(1px 1px 1px 1px);clip: rect(1px, 1px, 1px, 1px);height: 1px;margin: -1px;overflow: hidden;padding: 0;position: absolute;width: 1px;}#sk-container-id-1 div.sk-estimator {font-family: monospace;background-color: #f0f8ff;border: 1px dotted black;border-radius: 0.25em;box-sizing: border-box;margin-bottom: 0.5em;}#sk-container-id-1 div.sk-estimator:hover {background-color: #d4ebff;}#sk-container-id-1 div.sk-parallel-item::after {content: \"\";width: 100%;border-bottom: 1px solid gray;flex-grow: 1;}#sk-container-id-1 div.sk-label:hover label.sk-toggleable__label {background-color: #d4ebff;}#sk-container-id-1 div.sk-serial::before {content: \"\";position: absolute;border-left: 1px solid gray;box-sizing: border-box;top: 0;bottom: 0;left: 50%;z-index: 0;}#sk-container-id-1 div.sk-serial {display: flex;flex-direction: column;align-items: center;background-color: white;padding-right: 0.2em;padding-left: 0.2em;position: relative;}#sk-container-id-1 div.sk-item {position: relative;z-index: 1;}#sk-container-id-1 div.sk-parallel {display: flex;align-items: stretch;justify-content: center;background-color: white;position: relative;}#sk-container-id-1 div.sk-item::before, #sk-container-id-1 div.sk-parallel-item::before {content: \"\";position: absolute;border-left: 1px solid gray;box-sizing: border-box;top: 0;bottom: 0;left: 50%;z-index: -1;}#sk-container-id-1 div.sk-parallel-item {display: flex;flex-direction: column;z-index: 1;position: relative;background-color: white;}#sk-container-id-1 div.sk-parallel-item:first-child::after {align-self: flex-end;width: 50%;}#sk-container-id-1 div.sk-parallel-item:last-child::after {align-self: flex-start;width: 50%;}#sk-container-id-1 div.sk-parallel-item:only-child::after {width: 0;}#sk-container-id-1 div.sk-dashed-wrapped {border: 1px dashed gray;margin: 0 0.4em 0.5em 0.4em;box-sizing: border-box;padding-bottom: 0.4em;background-color: white;}#sk-container-id-1 div.sk-label label {font-family: monospace;font-weight: bold;display: inline-block;line-height: 1.2em;}#sk-container-id-1 div.sk-label-container {text-align: center;}#sk-container-id-1 div.sk-container {/* jupyter's `normalize.less` sets `[hidden] { display: none; }` but bootstrap.min.css set `[hidden] { display: none !important; }` so we also need the `!important` here to be able to override the default hidden behavior on the sphinx rendered scikit-learn.org. See: https://github.com/scikit-learn/scikit-learn/issues/21755 */display: inline-block !important;position: relative;}#sk-container-id-1 div.sk-text-repr-fallback {display: none;}</style><div id=\"sk-container-id-1\" class=\"sk-top-container\"><div class=\"sk-text-repr-fallback\"><pre>KMeans(n_clusters=5, random_state=42)</pre><b>In a Jupyter environment, please rerun this cell to show the HTML representation or trust the notebook. <br />On GitHub, the HTML representation is unable to render, please try loading this page with nbviewer.org.</b></div><div class=\"sk-container\" hidden><div class=\"sk-item\"><div class=\"sk-estimator sk-toggleable\"><input class=\"sk-toggleable__control sk-hidden--visually\" id=\"sk-estimator-id-1\" type=\"checkbox\" checked><label for=\"sk-estimator-id-1\" class=\"sk-toggleable__label sk-toggleable__label-arrow\">KMeans</label><div class=\"sk-toggleable__content\"><pre>KMeans(n_clusters=5, random_state=42)</pre></div></div></div></div></div>"
      ],
      "text/plain": [
       "KMeans(n_clusters=5, random_state=42)"
      ]
     },
     "execution_count": 20,
     "metadata": {},
     "output_type": "execute_result"
    }
   ],
   "source": [
    "# Train KMeans model with optimal clusters (assumed 4)\n",
    "optimal_clusters = 5\n",
    "kmeans_model = KMeans(n_clusters=optimal_clusters, random_state=42)\n",
    "kmeans_model.fit(df_cleaned)"
   ]
  },
  {
   "cell_type": "code",
   "execution_count": 21,
   "metadata": {},
   "outputs": [
    {
     "data": {
      "text/plain": [
       "'models/segmentation_model.pkl'"
      ]
     },
     "execution_count": 21,
     "metadata": {},
     "output_type": "execute_result"
    }
   ],
   "source": [
    "# Save the model\n",
    "model_path = 'models/segmentation_model.pkl'\n",
    "with open(model_path, 'wb') as f:\n",
    "    pickle.dump(kmeans_model, f)\n",
    "\n",
    "model_path"
   ]
  },
  {
   "cell_type": "code",
   "execution_count": null,
   "metadata": {},
   "outputs": [],
   "source": []
  }
 ],
 "metadata": {
  "kernelspec": {
   "display_name": "Python 3 (ipykernel)",
   "language": "python",
   "name": "python3"
  },
  "language_info": {
   "codemirror_mode": {
    "name": "ipython",
    "version": 3
   },
   "file_extension": ".py",
   "mimetype": "text/x-python",
   "name": "python",
   "nbconvert_exporter": "python",
   "pygments_lexer": "ipython3",
   "version": "3.11.7"
  }
 },
 "nbformat": 4,
 "nbformat_minor": 4
}
